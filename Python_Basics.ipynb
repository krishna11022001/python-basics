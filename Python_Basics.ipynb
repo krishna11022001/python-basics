{
  "nbformat": 4,
  "nbformat_minor": 0,
  "metadata": {
    "colab": {
      "provenance": []
    },
    "kernelspec": {
      "name": "python3",
      "display_name": "Python 3"
    },
    "language_info": {
      "name": "python"
    }
  },
  "cells": [
    {
      "cell_type": "markdown",
      "source": [
        "1. What is Python, and why is it popular?\n",
        "   - Python is programming languague which is known for simple syntex and code. It is popular because it has 137000 libraries which is different from other and easy to learn and write the code.\n",
        "\n",
        "2. What is an interpreter in Python?\n",
        "   - Interpreter in python is a program which read the code line by line and give immidiate output.\n",
        "\n",
        "3. What are pre-defined keywords in Python?\n",
        "   - Pre-defined in python  is reversed words that have special meaning and used to define the syntex and structure of language.Example include if, elif and else for conditional; For and while represent Loops; And , or and not for logical operaters; True, false and none represent boolean, and null value etc.  \n",
        "4. Can keywords be used as variable names?\n",
        "   - No, because varaiable names is the part of core lanaguage and core language is build-in and unchangable in python.\n",
        "5. What is mutability in Python?\n",
        "   - object/container whose state or value can be changed after are created called as mutable object. Example list  \n",
        "6. Why are lists mutable, but tuples are immutable?\n",
        "   - List are mutable and tuple are immutable due their use and design. List are meant to store collection of items and can be change over the\n",
        "   time that why it allow the modification like adding, removing and updating the elements. while tuples design for fixed collection of data that should be constant throughout the program.\n",
        "7. What is the difference between “==” and “is” operators in Python?\n",
        "   - \"==\" operater is a comparison operater which compare the value of two variable are equal and \"is\" operater is compare their identity of same object in memory.\n",
        "8. What are logical operators in Python?\n",
        "   - logical operators in python are (\"And\", \"Or\", \"Not\") which combine the statement and give the boolean result like \"True and false\".\n",
        "9. What is type casting in Python?\n",
        "  - Type casting in python refered to as type conversion, is process of  change the one data type to another data type in python.\n",
        "10. What is the difference between implicit and explicit type casting?\n",
        "  - Implicit type casting happen automatically when programming language convert one data type to another data type without programmer intervention.\n",
        "  but explicit data type require manually to convert the data type by using the special function and syntax.\n",
        "11. What is the purpose of conditional statements in Python?\n",
        "   - The purpose of conditional statement in python is to allow the program to make a decision and execute the different blocks of code based on the weather certain condition is true or false.\n",
        "12. How does the elif statement work?\n",
        "   - Elif statement work when the \"If\" statement is false then python move to check the \"Elif\" condition when the statement is true then it block is executed and other statement will be ignored.\n",
        "13. What is the difference between for and while loops?\n",
        "    - \"While\" loops is repeatedly executed a block of code untill a condition is met while \"for\" loops is iterate over the sequence of elements.\n",
        "14. Describe a scenario where a while loop is more suitable than a for loop?\n",
        "    - while loop is better than a for loop when you do not know how many times something needs to happen. For example, if you are making a game where someone has to guess a secret number, you do not know how many guesses it will take. The while loop can keep asking for guesses until the person gets it right. This works well because the loop keeps going based on the answer, not a fixed number of times.\n",
        "\n",
        "\n",
        "  "
      ],
      "metadata": {
        "id": "P58HZNszJ99Q"
      }
    },
    {
      "cell_type": "markdown",
      "source": [
        "#Practice Questions\n"
      ],
      "metadata": {
        "id": "joTL6BF9UFHA"
      }
    },
    {
      "cell_type": "markdown",
      "source": [
        "1. Write a Python program to print \"Hello, World!\""
      ],
      "metadata": {
        "id": "LJHuXy2WHDa4"
      }
    },
    {
      "cell_type": "code",
      "source": [
        "a = \"Hello, World!\"\n",
        "print(a)"
      ],
      "metadata": {
        "colab": {
          "base_uri": "https://localhost:8080/"
        },
        "id": "SRrcpgN5RNF7",
        "outputId": "a401357c-2d34-4637-edbe-f2928b2fd2aa"
      },
      "execution_count": 2,
      "outputs": [
        {
          "output_type": "stream",
          "name": "stdout",
          "text": [
            "Hello, World!\n"
          ]
        }
      ]
    },
    {
      "cell_type": "markdown",
      "source": [
        "2. Write a Python program that displays your name and age?"
      ],
      "metadata": {
        "id": "OrwsjZK-ResX"
      }
    },
    {
      "cell_type": "code",
      "source": [
        "Name = \"Krishna Kumar\"\n",
        "Age = \"25\"\n",
        "print(Name , Age)"
      ],
      "metadata": {
        "colab": {
          "base_uri": "https://localhost:8080/"
        },
        "id": "KeDOlmIXRbny",
        "outputId": "dc85cdb8-cbd2-480f-81de-e9faec11caa0"
      },
      "execution_count": 5,
      "outputs": [
        {
          "output_type": "stream",
          "name": "stdout",
          "text": [
            "Krishna Kumar 25\n"
          ]
        }
      ]
    },
    {
      "cell_type": "markdown",
      "source": [
        "3. Write code to print all the pre-defined keywords in Python using the keyword library?"
      ],
      "metadata": {
        "id": "zr8IQCUgUW0A"
      }
    },
    {
      "cell_type": "code",
      "source": [
        "help(\"keywords\")"
      ],
      "metadata": {
        "colab": {
          "base_uri": "https://localhost:8080/"
        },
        "id": "vu0CA8V4T4Ol",
        "outputId": "4403e3e4-8202-43d2-bec0-54437f072d92"
      },
      "execution_count": 16,
      "outputs": [
        {
          "output_type": "stream",
          "name": "stdout",
          "text": [
            "\n",
            "Here is a list of the Python keywords.  Enter any keyword to get more help.\n",
            "\n",
            "False               class               from                or\n",
            "None                continue            global              pass\n",
            "True                def                 if                  raise\n",
            "and                 del                 import              return\n",
            "as                  elif                in                  try\n",
            "assert              else                is                  while\n",
            "async               except              lambda              with\n",
            "await               finally             nonlocal            yield\n",
            "break               for                 not                 \n",
            "\n"
          ]
        }
      ]
    },
    {
      "cell_type": "markdown",
      "source": [
        "4. Write a program that checks if a given word is a Python keyword?"
      ],
      "metadata": {
        "id": "chdd3CtgWV4y"
      }
    },
    {
      "cell_type": "code",
      "source": [
        "user_input = input(\"Enter a word to check if it's a Python keyword: \")\n",
        "\n",
        "if is_python_keyword(user_input):\n",
        "    print(f\"'{user_input}' is a Python keyword.\")\n",
        "else:\n",
        "    print(f\"'{user_input}' is NOT a Python keyword.\")\n"
      ],
      "metadata": {
        "colab": {
          "base_uri": "https://localhost:8080/"
        },
        "id": "jVcaHrxka8yd",
        "outputId": "da2934b5-9968-47e1-cdb9-7d43cb3c8849"
      },
      "execution_count": 26,
      "outputs": [
        {
          "output_type": "stream",
          "name": "stdout",
          "text": [
            "Enter a word to check if it's a Python keyword: True\n",
            "'True' is a Python keyword.\n"
          ]
        }
      ]
    },
    {
      "cell_type": "markdown",
      "source": [
        "5. Create a list and tuple in Python, and demonstrate how attempting to change an element works differently for each?"
      ],
      "metadata": {
        "id": "JaxpXf41btCH"
      }
    },
    {
      "cell_type": "code",
      "source": [
        "list = [1, 2, 3]\n",
        "tuple = (1, 2, 3)\n",
        "list[0] = \"4\"\n",
        "print(list)\n",
        "print(tuple)"
      ],
      "metadata": {
        "colab": {
          "base_uri": "https://localhost:8080/"
        },
        "id": "jDHNI-ApbSws",
        "outputId": "37a389b4-f6bb-4d30-c6e5-7b93fc769798"
      },
      "execution_count": 31,
      "outputs": [
        {
          "output_type": "stream",
          "name": "stdout",
          "text": [
            "['4', 2, 3]\n",
            "(1, 2, 3)\n"
          ]
        }
      ]
    },
    {
      "cell_type": "markdown",
      "source": [
        "6. Write a function to demonstrate the behavior of mutable and immutable arguments?"
      ],
      "metadata": {
        "id": "BswWutfReCCO"
      }
    },
    {
      "cell_type": "code",
      "source": [
        "a = [1, 2, 3, 4]\n",
        "a[0]=6\n",
        "print(a)\n",
        "b = (1, 2, 3, 4)\n",
        "b[0] = 5\n",
        "print(b)\n"
      ],
      "metadata": {
        "colab": {
          "base_uri": "https://localhost:8080/",
          "height": 211
        },
        "id": "YlgW_qrYml7w",
        "outputId": "dc6bcc90-ac41-449b-974d-28840b3aee43"
      },
      "execution_count": 57,
      "outputs": [
        {
          "output_type": "stream",
          "name": "stdout",
          "text": [
            "[6, 2, 3, 4]\n"
          ]
        },
        {
          "output_type": "error",
          "ename": "TypeError",
          "evalue": "'tuple' object does not support item assignment",
          "traceback": [
            "\u001b[0;31m---------------------------------------------------------------------------\u001b[0m",
            "\u001b[0;31mTypeError\u001b[0m                                 Traceback (most recent call last)",
            "\u001b[0;32m<ipython-input-57-bf3ba8d8d681>\u001b[0m in \u001b[0;36m<cell line: 0>\u001b[0;34m()\u001b[0m\n\u001b[1;32m      3\u001b[0m \u001b[0mprint\u001b[0m\u001b[0;34m(\u001b[0m\u001b[0ma\u001b[0m\u001b[0;34m)\u001b[0m\u001b[0;34m\u001b[0m\u001b[0;34m\u001b[0m\u001b[0m\n\u001b[1;32m      4\u001b[0m \u001b[0mb\u001b[0m \u001b[0;34m=\u001b[0m \u001b[0;34m(\u001b[0m\u001b[0;36m1\u001b[0m\u001b[0;34m,\u001b[0m \u001b[0;36m2\u001b[0m\u001b[0;34m,\u001b[0m \u001b[0;36m3\u001b[0m\u001b[0;34m,\u001b[0m \u001b[0;36m4\u001b[0m\u001b[0;34m)\u001b[0m\u001b[0;34m\u001b[0m\u001b[0;34m\u001b[0m\u001b[0m\n\u001b[0;32m----> 5\u001b[0;31m \u001b[0mb\u001b[0m\u001b[0;34m[\u001b[0m\u001b[0;36m0\u001b[0m\u001b[0;34m]\u001b[0m \u001b[0;34m=\u001b[0m \u001b[0;36m5\u001b[0m\u001b[0;34m\u001b[0m\u001b[0;34m\u001b[0m\u001b[0m\n\u001b[0m\u001b[1;32m      6\u001b[0m \u001b[0mprint\u001b[0m\u001b[0;34m(\u001b[0m\u001b[0mb\u001b[0m\u001b[0;34m)\u001b[0m\u001b[0;34m\u001b[0m\u001b[0;34m\u001b[0m\u001b[0m\n",
            "\u001b[0;31mTypeError\u001b[0m: 'tuple' object does not support item assignment"
          ]
        }
      ]
    },
    {
      "cell_type": "markdown",
      "source": [
        "7. Write a program that performs basic arithmetic operations on two user-input numbers?"
      ],
      "metadata": {
        "id": "ara9qGRVmseg"
      }
    },
    {
      "cell_type": "code",
      "source": [
        "user1 = int(input(\"Enter the first number:\"))\n",
        "user2 = int(input(\"Enter the second number:\"))\n",
        "print(user1 + user2)\n",
        "print(user1 - user2)\n",
        "print(user1 * user2)\n",
        "print(user1 / user2)"
      ],
      "metadata": {
        "colab": {
          "base_uri": "https://localhost:8080/"
        },
        "id": "LCwD6KJ5m5Ga",
        "outputId": "e2e1ed9c-1032-4f4a-f66b-d2b8f00781fc"
      },
      "execution_count": 51,
      "outputs": [
        {
          "output_type": "stream",
          "name": "stdout",
          "text": [
            "Enter the first number:78\n",
            "Enter the second number:78\n",
            "156\n",
            "0\n",
            "6084\n",
            "1.0\n"
          ]
        }
      ]
    },
    {
      "cell_type": "markdown",
      "source": [
        "8. Write a program to demonstrate the use of logical operators?"
      ],
      "metadata": {
        "id": "azMhkZmKrb0e"
      }
    },
    {
      "cell_type": "code",
      "source": [
        "a = int(input(\"Enter first number (a): \"))\n",
        "b = int(input(\"Enter second number (b): \"))\n",
        "print(f\"a > 0 and b > 0: {a > 0 and b > 0}\")\n",
        "print(f\"a > 0 or b > 0: {a > 0 or b > 0}\")"
      ],
      "metadata": {
        "colab": {
          "base_uri": "https://localhost:8080/"
        },
        "id": "vusYNPrKoFW4",
        "outputId": "a521f88e-50a5-4a73-85d9-d788b9f961c5"
      },
      "execution_count": 1,
      "outputs": [
        {
          "output_type": "stream",
          "name": "stdout",
          "text": [
            "Enter first number (a): 5\n",
            "Enter second number (b): 3\n",
            "a > 0 and b > 0: True\n",
            "a > 0 or b > 0: True\n"
          ]
        }
      ]
    },
    {
      "cell_type": "markdown",
      "source": [
        "9. Write a Python program to convert user input from string to integer, float, and boolean types?"
      ],
      "metadata": {
        "id": "9Qs8iHRH3XgL"
      }
    },
    {
      "cell_type": "code",
      "source": [
        "def convert_input():\n",
        "    user_input = input(\"Enter a value: \")\n",
        "\n",
        "    # Convert to integer\n",
        "    try:\n",
        "        int_value = int(user_input)\n",
        "        print(f\"Integer conversion: {int_value}\")\n",
        "    except ValueError:\n",
        "        print(\"Cannot convert to integer.\")\n",
        "\n",
        "    # Convert to float\n",
        "    try:\n",
        "        float_value = float(user_input)\n",
        "        print(f\"Float conversion: {float_value}\")\n",
        "    except ValueError:\n",
        "        print(\"Cannot convert to float.\")\n",
        "\n",
        "    # Convert to boolean\n",
        "    bool_value = bool(user_input.strip())  # Empty string is False; non-empty is True\n",
        "    print(f\"Boolean conversion: {bool_value}\")\n",
        "\n",
        "# Run the function\n",
        "convert_input()\n"
      ],
      "metadata": {
        "colab": {
          "base_uri": "https://localhost:8080/"
        },
        "id": "GVrTI59jpT8C",
        "outputId": "c2f307c1-2654-4101-ced5-6a3ef49b380c"
      },
      "execution_count": 2,
      "outputs": [
        {
          "output_type": "stream",
          "name": "stdout",
          "text": [
            "Enter a value: 12\n",
            "Integer conversion: 12\n",
            "Float conversion: 12.0\n",
            "Boolean conversion: True\n"
          ]
        }
      ]
    },
    {
      "cell_type": "markdown",
      "source": [
        "10. Write code to demonstrate type casting with list elements?"
      ],
      "metadata": {
        "id": "eEKHA10T3zcd"
      }
    },
    {
      "cell_type": "code",
      "source": [
        "str_numbers = [\"1\", \"2\", \"3\", \"4\", \"5\"]\n",
        "int_numbers = [int(num) for num in str_numbers]\n",
        "float_numbers = [float(num) for num in str_numbers]\n",
        "str_again = [str(num) for num in int_numbers]\n",
        "print(\"Original list (strings):\", str_numbers)\n",
        "print(\"After casting to integers:\", int_numbers)\n",
        "print(\"After casting to floats:\", float_numbers)\n",
        "print(\"After casting integers back to strings:\", str_again)\n"
      ],
      "metadata": {
        "colab": {
          "base_uri": "https://localhost:8080/"
        },
        "id": "IkaHaMip3r44",
        "outputId": "085d7419-1787-4873-da79-1ff3697dbe16"
      },
      "execution_count": 3,
      "outputs": [
        {
          "output_type": "stream",
          "name": "stdout",
          "text": [
            "Original list (strings): ['1', '2', '3', '4', '5']\n",
            "After casting to integers: [1, 2, 3, 4, 5]\n",
            "After casting to floats: [1.0, 2.0, 3.0, 4.0, 5.0]\n",
            "After casting integers back to strings: ['1', '2', '3', '4', '5']\n"
          ]
        }
      ]
    },
    {
      "cell_type": "markdown",
      "source": [
        "11. Write a program that checks if a number is positive, negative, or zero?"
      ],
      "metadata": {
        "id": "a41zDn4S4uL9"
      }
    },
    {
      "cell_type": "code",
      "source": [
        "num = float(input(\"Enter a number: \"))\n",
        "if num > 0:\n",
        "    print(\"The number is positive.\")\n",
        "elif num < 0:\n",
        "    print(\"The number is negative.\")\n",
        "else:\n",
        "    print(\"The number is zero.\")\n"
      ],
      "metadata": {
        "colab": {
          "base_uri": "https://localhost:8080/"
        },
        "id": "XbfX-A264qX3",
        "outputId": "f0c56752-8147-48f5-c7a4-42946a54cb45"
      },
      "execution_count": 4,
      "outputs": [
        {
          "output_type": "stream",
          "name": "stdout",
          "text": [
            "Enter a number: 5\n",
            "The number is positive.\n"
          ]
        }
      ]
    },
    {
      "cell_type": "markdown",
      "source": [
        "12. Write a for loop to print numbers from 1 to 10?"
      ],
      "metadata": {
        "id": "CbxLEUPh5BkW"
      }
    },
    {
      "cell_type": "code",
      "source": [
        "for i in range(1, 11):\n",
        "    print(i)\n"
      ],
      "metadata": {
        "colab": {
          "base_uri": "https://localhost:8080/"
        },
        "id": "HmckUA5G4_Nq",
        "outputId": "4f84206f-d572-4373-de6f-0892f979a785"
      },
      "execution_count": 5,
      "outputs": [
        {
          "output_type": "stream",
          "name": "stdout",
          "text": [
            "1\n",
            "2\n",
            "3\n",
            "4\n",
            "5\n",
            "6\n",
            "7\n",
            "8\n",
            "9\n",
            "10\n"
          ]
        }
      ]
    },
    {
      "cell_type": "markdown",
      "source": [
        "13. Write a Python program to find the sum of all even numbers between 1 and 50?"
      ],
      "metadata": {
        "id": "MQGXLHCf5p3G"
      }
    },
    {
      "cell_type": "code",
      "source": [
        "sum_even = 0\n",
        "for number in range(1, 51):\n",
        "    if number % 2 == 0:\n",
        "        sum_even += number\n",
        "print(\"The sum of all even numbers between 1 and 50 is:\", sum_even)\n"
      ],
      "metadata": {
        "colab": {
          "base_uri": "https://localhost:8080/"
        },
        "id": "H7p948mW5lfd",
        "outputId": "2ab42b67-93ac-4973-d8a5-cdcd36abfc3f"
      },
      "execution_count": 6,
      "outputs": [
        {
          "output_type": "stream",
          "name": "stdout",
          "text": [
            "The sum of all even numbers between 1 and 50 is: 650\n"
          ]
        }
      ]
    },
    {
      "cell_type": "markdown",
      "source": [
        "14. Write a program to reverse a string using a while loop?"
      ],
      "metadata": {
        "id": "QmA9ea9S6UKz"
      }
    },
    {
      "cell_type": "code",
      "source": [
        "input_string = \"Hello, World!\"\n",
        "reversed_string = \"\"\n",
        "index = len(input_string) - 1\n",
        "while index >= 0:\n",
        "    reversed_string += input_string[index]\n",
        "    index -= 1\n",
        "print(\"Reversed string is:\", reversed_string)\n"
      ],
      "metadata": {
        "colab": {
          "base_uri": "https://localhost:8080/"
        },
        "id": "7BD-vKno6OMr",
        "outputId": "914f8fd6-8bc2-4f4c-f08c-b92e00106061"
      },
      "execution_count": 7,
      "outputs": [
        {
          "output_type": "stream",
          "name": "stdout",
          "text": [
            "Reversed string is: !dlroW ,olleH\n"
          ]
        }
      ]
    },
    {
      "cell_type": "markdown",
      "source": [
        "15. Write a Python program to calculate the factorial of a number provided by the user using a while loop?"
      ],
      "metadata": {
        "id": "1lIpOYnV6ozs"
      }
    },
    {
      "cell_type": "code",
      "source": [
        "num = int(input(\"Enter a non-negative integer: \"))\n",
        "if num < 0:\n",
        "    print(\"Factorial is not defined for negative numbers.\")\n",
        "else:\n",
        "    factorial = 1\n",
        "    i = 1\n",
        "    while i <= num:\n",
        "        factorial *= i\n",
        "        i += 1\n",
        "    print(f\"The factorial of {num} is: {factorial}\")\n"
      ],
      "metadata": {
        "colab": {
          "base_uri": "https://localhost:8080/"
        },
        "id": "9jJbfntU6nIv",
        "outputId": "6a047c2e-dc59-4a80-baf4-3a72638b67a9"
      },
      "execution_count": 8,
      "outputs": [
        {
          "output_type": "stream",
          "name": "stdout",
          "text": [
            "Enter a non-negative integer: 5\n",
            "The factorial of 5 is: 120\n"
          ]
        }
      ]
    },
    {
      "cell_type": "code",
      "source": [],
      "metadata": {
        "id": "EbHwU4rk6_I4"
      },
      "execution_count": null,
      "outputs": []
    }
  ]
}